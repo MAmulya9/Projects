{
 "cells": [
  {
   "cell_type": "code",
   "execution_count": 367,
   "id": "b0a970d0-52be-4e74-900b-0c21e994fe4d",
   "metadata": {},
   "outputs": [],
   "source": [
    "# IMPORTING LIBRARIES\n",
    "\n",
    "import numpy as np # for numerical computing\n",
    "import pandas as pd # for dataframes\n",
    "import seaborn as sns # for easier visualization\n",
    "from matplotlib import pyplot as plt # for visualization and to display plots\n",
    "from matplotlib.colors import ListedColormap # import color maps"
   ]
  },
  {
   "cell_type": "code",
   "execution_count": 369,
   "id": "68e7d350-52eb-420f-98af-06398eb65797",
   "metadata": {},
   "outputs": [],
   "source": [
    "# Ignore Warnings\n",
    "import warnings\n",
    "warnings.filterwarnings(\"ignore\")\n",
    "\n",
    "from math import sqrt\n",
    "\n",
    "# to split train and test set\n",
    "from sklearn.model_selection import train_test_split\n",
    "\n",
    "#importing the required ML libraries\n",
    "from sklearn.linear_model import LogisticRegression\n",
    "from sklearn.tree import DecisionTreeClassifier\n",
    "from sklearn.ensemble import RandomForestClassifier, GradientBoostingClassifier\n",
    "from sklearn.model_selection import train_test_split, cross_val_score, GridSearchCV\n",
    "from sklearn.metrics import accuracy_score\n",
    "from sklearn.metrics import classification_report\n",
    "import sklearn.metrics as metrics\n",
    "from sklearn.metrics import confusion_matrix,precision_score,recall_score,f1_score"
   ]
  },
  {
   "cell_type": "code",
   "execution_count": 371,
   "id": "68b1976b-23eb-4a27-b1a2-76b978e2c320",
   "metadata": {},
   "outputs": [
    {
     "data": {
      "text/html": [
       "<div>\n",
       "<style scoped>\n",
       "    .dataframe tbody tr th:only-of-type {\n",
       "        vertical-align: middle;\n",
       "    }\n",
       "\n",
       "    .dataframe tbody tr th {\n",
       "        vertical-align: top;\n",
       "    }\n",
       "\n",
       "    .dataframe thead th {\n",
       "        text-align: right;\n",
       "    }\n",
       "</style>\n",
       "<table border=\"1\" class=\"dataframe\">\n",
       "  <thead>\n",
       "    <tr style=\"text-align: right;\">\n",
       "      <th></th>\n",
       "      <th>Temparature</th>\n",
       "      <th>Humidity</th>\n",
       "      <th>Moisture</th>\n",
       "      <th>Soil Type</th>\n",
       "      <th>Crop Type</th>\n",
       "      <th>Nitrogen</th>\n",
       "      <th>Potassium</th>\n",
       "      <th>Phosphorous</th>\n",
       "      <th>Fertilizer Name</th>\n",
       "    </tr>\n",
       "  </thead>\n",
       "  <tbody>\n",
       "    <tr>\n",
       "      <th>0</th>\n",
       "      <td>26</td>\n",
       "      <td>52</td>\n",
       "      <td>38</td>\n",
       "      <td>Sandy</td>\n",
       "      <td>Maize</td>\n",
       "      <td>37</td>\n",
       "      <td>0</td>\n",
       "      <td>0</td>\n",
       "      <td>Urea</td>\n",
       "    </tr>\n",
       "    <tr>\n",
       "      <th>1</th>\n",
       "      <td>29</td>\n",
       "      <td>52</td>\n",
       "      <td>45</td>\n",
       "      <td>Loamy</td>\n",
       "      <td>Sugarcane</td>\n",
       "      <td>12</td>\n",
       "      <td>0</td>\n",
       "      <td>36</td>\n",
       "      <td>DAP</td>\n",
       "    </tr>\n",
       "    <tr>\n",
       "      <th>2</th>\n",
       "      <td>34</td>\n",
       "      <td>65</td>\n",
       "      <td>62</td>\n",
       "      <td>Black</td>\n",
       "      <td>Cotton</td>\n",
       "      <td>7</td>\n",
       "      <td>9</td>\n",
       "      <td>30</td>\n",
       "      <td>14-35-14</td>\n",
       "    </tr>\n",
       "    <tr>\n",
       "      <th>3</th>\n",
       "      <td>32</td>\n",
       "      <td>62</td>\n",
       "      <td>34</td>\n",
       "      <td>Red</td>\n",
       "      <td>Tobacco</td>\n",
       "      <td>22</td>\n",
       "      <td>0</td>\n",
       "      <td>20</td>\n",
       "      <td>28-28</td>\n",
       "    </tr>\n",
       "    <tr>\n",
       "      <th>4</th>\n",
       "      <td>28</td>\n",
       "      <td>54</td>\n",
       "      <td>46</td>\n",
       "      <td>Clayey</td>\n",
       "      <td>Paddy</td>\n",
       "      <td>35</td>\n",
       "      <td>0</td>\n",
       "      <td>0</td>\n",
       "      <td>Urea</td>\n",
       "    </tr>\n",
       "    <tr>\n",
       "      <th>...</th>\n",
       "      <td>...</td>\n",
       "      <td>...</td>\n",
       "      <td>...</td>\n",
       "      <td>...</td>\n",
       "      <td>...</td>\n",
       "      <td>...</td>\n",
       "      <td>...</td>\n",
       "      <td>...</td>\n",
       "      <td>...</td>\n",
       "    </tr>\n",
       "    <tr>\n",
       "      <th>94</th>\n",
       "      <td>25</td>\n",
       "      <td>50</td>\n",
       "      <td>32</td>\n",
       "      <td>Clayey</td>\n",
       "      <td>Pulses</td>\n",
       "      <td>24</td>\n",
       "      <td>0</td>\n",
       "      <td>19</td>\n",
       "      <td>28-28</td>\n",
       "    </tr>\n",
       "    <tr>\n",
       "      <th>95</th>\n",
       "      <td>30</td>\n",
       "      <td>60</td>\n",
       "      <td>27</td>\n",
       "      <td>Red</td>\n",
       "      <td>Tobacco</td>\n",
       "      <td>4</td>\n",
       "      <td>17</td>\n",
       "      <td>17</td>\n",
       "      <td>10-26-26</td>\n",
       "    </tr>\n",
       "    <tr>\n",
       "      <th>96</th>\n",
       "      <td>38</td>\n",
       "      <td>72</td>\n",
       "      <td>51</td>\n",
       "      <td>Loamy</td>\n",
       "      <td>Wheat</td>\n",
       "      <td>39</td>\n",
       "      <td>0</td>\n",
       "      <td>0</td>\n",
       "      <td>Urea</td>\n",
       "    </tr>\n",
       "    <tr>\n",
       "      <th>97</th>\n",
       "      <td>36</td>\n",
       "      <td>60</td>\n",
       "      <td>43</td>\n",
       "      <td>Sandy</td>\n",
       "      <td>Millets</td>\n",
       "      <td>15</td>\n",
       "      <td>0</td>\n",
       "      <td>41</td>\n",
       "      <td>DAP</td>\n",
       "    </tr>\n",
       "    <tr>\n",
       "      <th>98</th>\n",
       "      <td>29</td>\n",
       "      <td>58</td>\n",
       "      <td>57</td>\n",
       "      <td>Black</td>\n",
       "      <td>Sugarcane</td>\n",
       "      <td>12</td>\n",
       "      <td>0</td>\n",
       "      <td>10</td>\n",
       "      <td>20-20</td>\n",
       "    </tr>\n",
       "  </tbody>\n",
       "</table>\n",
       "<p>99 rows × 9 columns</p>\n",
       "</div>"
      ],
      "text/plain": [
       "    Temparature  Humidity   Moisture Soil Type  Crop Type  Nitrogen  \\\n",
       "0            26         52        38     Sandy      Maize        37   \n",
       "1            29         52        45     Loamy  Sugarcane        12   \n",
       "2            34         65        62     Black     Cotton         7   \n",
       "3            32         62        34       Red    Tobacco        22   \n",
       "4            28         54        46    Clayey      Paddy        35   \n",
       "..          ...        ...       ...       ...        ...       ...   \n",
       "94           25         50        32    Clayey     Pulses        24   \n",
       "95           30         60        27       Red    Tobacco         4   \n",
       "96           38         72        51     Loamy      Wheat        39   \n",
       "97           36         60        43     Sandy    Millets        15   \n",
       "98           29         58        57     Black  Sugarcane        12   \n",
       "\n",
       "    Potassium  Phosphorous Fertilizer Name  \n",
       "0           0            0            Urea  \n",
       "1           0           36             DAP  \n",
       "2           9           30        14-35-14  \n",
       "3           0           20           28-28  \n",
       "4           0            0            Urea  \n",
       "..        ...          ...             ...  \n",
       "94          0           19           28-28  \n",
       "95         17           17        10-26-26  \n",
       "96          0            0            Urea  \n",
       "97          0           41             DAP  \n",
       "98          0           10           20-20  \n",
       "\n",
       "[99 rows x 9 columns]"
      ]
     },
     "execution_count": 371,
     "metadata": {},
     "output_type": "execute_result"
    }
   ],
   "source": [
    "# Reading the dataset and storing it in  variable 'OTT_Churn' \n",
    "data = pd.read_csv(r\"D:\\Amulya\\Amulya VIT\\Sem-7\\TARP\\Fertilizer Prediction data.csv\")\n",
    "# Printing the dataset\n",
    "data"
   ]
  },
  {
   "cell_type": "code",
   "execution_count": 373,
   "id": "41bceac7-4fd7-4b04-838a-f3e8a9adaa0a",
   "metadata": {},
   "outputs": [
    {
     "data": {
      "text/plain": [
       "Temparature        0\n",
       "Humidity           0\n",
       "Moisture           0\n",
       "Soil Type          0\n",
       "Crop Type          0\n",
       "Nitrogen           0\n",
       "Potassium          0\n",
       "Phosphorous        0\n",
       "Fertilizer Name    0\n",
       "dtype: int64"
      ]
     },
     "execution_count": 373,
     "metadata": {},
     "output_type": "execute_result"
    }
   ],
   "source": [
    "data.isnull().sum()"
   ]
  },
  {
   "cell_type": "code",
   "execution_count": 375,
   "id": "c5ac237a-b93e-481e-9a05-cd589f921d76",
   "metadata": {},
   "outputs": [],
   "source": [
    "data['Soil Type']=data['Soil Type'].map({'Loamy':0,'Sandy':1,'Clayey':2,'Black':3,'Red':4})"
   ]
  },
  {
   "cell_type": "code",
   "execution_count": 377,
   "id": "b9e24e0f-71c5-45f4-95f2-17b8db5771bf",
   "metadata": {},
   "outputs": [],
   "source": [
    "map2={'Sugarcane':0,'Cotton':1, 'Millets':2, 'Paddy':3, 'Pulses':4, 'Wheat':5, 'Tobacco':6, 'Barley':7,'Oil seeds':8,'Ground Nuts':9, 'Maize':10 }\n",
    "data['Crop Type']=data['Crop Type'].map(map2)"
   ]
  },
  {
   "cell_type": "code",
   "execution_count": 379,
   "id": "d0b13b40-0cb4-4193-969d-77a69a93235d",
   "metadata": {},
   "outputs": [],
   "source": [
    "data['Fertilizer Name']=data['Fertilizer Name'].map({'Urea':0,'DAP':1,'28-28':2,'14-35-14':3,'20-20':4,'17-17-17':5,'10-26-26':6})"
   ]
  },
  {
   "cell_type": "code",
   "execution_count": 381,
   "id": "17b6fc20-03a9-41a5-94db-c1257e6bc496",
   "metadata": {},
   "outputs": [],
   "source": [
    "#Splitting out training data into X: features and Y: target\n",
    "X = data.drop(\"Fertilizer Name\",axis=1) \n",
    "Y = data[\"Fertilizer Name\"]"
   ]
  },
  {
   "cell_type": "code",
   "execution_count": 383,
   "id": "12ff9955-17bc-4a41-95cb-11ff0824ca4a",
   "metadata": {},
   "outputs": [],
   "source": [
    "# Importing library\n",
    "from sklearn.preprocessing import StandardScaler"
   ]
  },
  {
   "cell_type": "code",
   "execution_count": 385,
   "id": "217af564-550a-4b63-8ccd-7bc487fbac4d",
   "metadata": {},
   "outputs": [],
   "source": [
    "sc=StandardScaler()\n",
    "sc=sc.fit(X)\n",
    "X=sc.transform(X)"
   ]
  },
  {
   "cell_type": "code",
   "execution_count": 387,
   "id": "90aa5bda-387a-4e92-9c63-e54ec05378c2",
   "metadata": {},
   "outputs": [],
   "source": [
    "# Splitting of training data and test data\n",
    "X_train, X_test, Y_train, Y_test = train_test_split(X, Y, test_size=0.4,random_state=60)"
   ]
  },
  {
   "cell_type": "code",
   "execution_count": 389,
   "id": "5859029a-93fc-43f2-b48f-545cffe7e472",
   "metadata": {},
   "outputs": [],
   "source": [
    "# Logistic Regression\n",
    "logreg = LogisticRegression()\n",
    "logreg.fit(X_train,Y_train)\n",
    "Y_pred = logreg.predict(X_test)"
   ]
  },
  {
   "cell_type": "code",
   "execution_count": 391,
   "id": "4ac8f64d-1d33-4ac0-9fb0-6e07bb54cb8f",
   "metadata": {},
   "outputs": [
    {
     "data": {
      "text/plain": [
       "82.5"
      ]
     },
     "execution_count": 391,
     "metadata": {},
     "output_type": "execute_result"
    }
   ],
   "source": [
    "# Accuracy of Logistic Regression\n",
    "acc_logreg = round(accuracy_score(Y_pred, Y_test) * 100, 2)\n",
    "acc_logreg"
   ]
  },
  {
   "cell_type": "code",
   "execution_count": 393,
   "id": "e1e3f831-5aec-41df-a4c7-1085d31b41b3",
   "metadata": {},
   "outputs": [
    {
     "data": {
      "text/plain": [
       "96.0"
      ]
     },
     "execution_count": 393,
     "metadata": {},
     "output_type": "execute_result"
    }
   ],
   "source": [
    "# let's perform some K-fold cross validation for logistic Regression\n",
    "cv_scores = cross_val_score(logreg,X,Y,cv=5) \n",
    "np.mean(cv_scores)*100"
   ]
  },
  {
   "cell_type": "code",
   "execution_count": 395,
   "id": "b941751b-6602-44a5-a9c2-8664b889d361",
   "metadata": {},
   "outputs": [
    {
     "name": "stdout",
     "output_type": "stream",
     "text": [
      "The accuracy score is  82.5 %\n"
     ]
    }
   ],
   "source": [
    "accuracy = metrics.accuracy_score(Y_test,Y_pred)\n",
    "confusion_matrix = metrics.confusion_matrix(Y_test,Y_pred)\n",
    "print('The accuracy score is ',accuracy*100,'%')"
   ]
  },
  {
   "cell_type": "code",
   "execution_count": 397,
   "id": "7721d4b1-7319-41d8-a93e-9f4530ded692",
   "metadata": {},
   "outputs": [
    {
     "name": "stdout",
     "output_type": "stream",
     "text": [
      "[[ 9  0  0  0  0  0  0]\n",
      " [ 0 10  0  0  0  0  0]\n",
      " [ 0  0  6  0  0  0  0]\n",
      " [ 0  0  0  4  0  0  0]\n",
      " [ 0  0  1  0  3  0  0]\n",
      " [ 0  0  0  0  0  1  1]\n",
      " [ 0  0  0  1  0  4  0]]\n"
     ]
    },
    {
     "data": {
      "image/png": "[encoded data removed]",
      "text/plain": [
       "<Figure size 640x480 with 2 Axes>"
      ]
     },
     "metadata": {},
     "output_type": "display_data"
    }
   ],
   "source": [
    "# Confusion matrix\n",
    "sns.heatmap(confusion_matrix)\n",
    "print(confusion_matrix)"
   ]
  },
  {
   "cell_type": "code",
   "execution_count": 399,
   "id": "81a51dd9-b489-424e-8189-1cda80c53853",
   "metadata": {},
   "outputs": [
    {
     "name": "stdout",
     "output_type": "stream",
     "text": [
      "              precision    recall  f1-score   support\n",
      "\n",
      "           0       1.00      1.00      1.00         9\n",
      "           1       1.00      1.00      1.00        10\n",
      "           2       0.86      1.00      0.92         6\n",
      "           3       0.80      1.00      0.89         4\n",
      "           4       1.00      0.75      0.86         4\n",
      "           5       0.20      0.50      0.29         2\n",
      "           6       0.00      0.00      0.00         5\n",
      "\n",
      "    accuracy                           0.82        40\n",
      "   macro avg       0.69      0.75      0.71        40\n",
      "weighted avg       0.79      0.82      0.80        40\n",
      "\n"
     ]
    }
   ],
   "source": [
    "# Performance metrics \n",
    "print(classification_report(Y_test, Y_pred))"
   ]
  },
  {
   "cell_type": "code",
   "execution_count": 401,
   "id": "8b4489ae-5e25-4794-8568-7514522a3f22",
   "metadata": {},
   "outputs": [
    {
     "data": {
      "text/html": [
       "<div>\n",
       "<style scoped>\n",
       "    .dataframe tbody tr th:only-of-type {\n",
       "        vertical-align: middle;\n",
       "    }\n",
       "\n",
       "    .dataframe tbody tr th {\n",
       "        vertical-align: top;\n",
       "    }\n",
       "\n",
       "    .dataframe thead th {\n",
       "        text-align: right;\n",
       "    }\n",
       "</style>\n",
       "<table border=\"1\" class=\"dataframe\">\n",
       "  <thead>\n",
       "    <tr style=\"text-align: right;\">\n",
       "      <th></th>\n",
       "      <th>Accuracy</th>\n",
       "      <th>F1_score</th>\n",
       "      <th>Recall</th>\n",
       "      <th>Precision</th>\n",
       "    </tr>\n",
       "  </thead>\n",
       "  <tbody>\n",
       "    <tr>\n",
       "      <th>Logistic_regression</th>\n",
       "      <td>0.825</td>\n",
       "      <td>0.802</td>\n",
       "      <td>0.825</td>\n",
       "      <td>0.794</td>\n",
       "    </tr>\n",
       "  </tbody>\n",
       "</table>\n",
       "</div>"
      ],
      "text/plain": [
       "                     Accuracy  F1_score  Recall  Precision\n",
       "Logistic_regression     0.825     0.802   0.825      0.794"
      ]
     },
     "execution_count": 401,
     "metadata": {},
     "output_type": "execute_result"
    }
   ],
   "source": [
    "from sklearn.metrics import accuracy_score, f1_score, recall_score, precision_score\n",
    "\n",
    "Scores = {\n",
    "    'Accuracy': round(accuracy_score(Y_test, Y_pred), 3),\n",
    "    'F1_score': round(f1_score(Y_test, Y_pred, average='weighted'), 3),\n",
    "    'Recall': round(recall_score(Y_test, Y_pred, average='weighted'), 3),\n",
    "    'Precision': round(precision_score(Y_test, Y_pred, average='weighted'), 3),\n",
    "}\n",
    "Scores\n",
    "model_logreg=pd.DataFrame(data=Scores,index=['Logistic_regression'])\n",
    "model_logreg"
   ]
  },
  {
   "cell_type": "code",
   "execution_count": 403,
   "id": "224d52f2-139b-4380-a7f7-b1ca6bcdb507",
   "metadata": {},
   "outputs": [
    {
     "name": "stdout",
     "output_type": "stream",
     "text": [
      "Best value of max_depth: {'max_depth': 6}\n",
      "Best score: 98.00000000000001\n"
     ]
    }
   ],
   "source": [
    "#Decision Tree Classifier\n",
    "# Grid Search CV\n",
    "decisiontree = DecisionTreeClassifier()\n",
    "dep = np.arange(1,10)\n",
    "param_grid = {'max_depth' : dep}\n",
    "\n",
    "clf_cv = GridSearchCV(decisiontree, param_grid=param_grid, cv=5)\n",
    "\n",
    "clf_cv.fit(X, Y)\n",
    "clf_cv.best_params_,clf_cv.best_score_*100\n",
    "print('Best value of max_depth:',clf_cv.best_params_)\n",
    "print('Best score:',clf_cv.best_score_*100)"
   ]
  },
  {
   "cell_type": "code",
   "execution_count": 405,
   "id": "8cbeb616-f4b9-4849-944b-cf61826e93b0",
   "metadata": {},
   "outputs": [
    {
     "name": "stdout",
     "output_type": "stream",
     "text": [
      "Accuracy: 0.95\n"
     ]
    }
   ],
   "source": [
    "# Create Decision Tree classifer object\n",
    "clf = DecisionTreeClassifier(criterion=\"entropy\", max_depth=5)\n",
    "\n",
    "# Train Decision Tree Classifer\n",
    "clf = clf.fit(X_train,Y_train)\n",
    "\n",
    "#Predict the response for test dataset\n",
    "Y_pred = clf.predict(X_test)\n",
    "\n",
    "# Model Accuracy, how often is the classifier correct?\n",
    "print(\"Accuracy:\",metrics.accuracy_score(Y_test, Y_pred))"
   ]
  },
  {
   "cell_type": "code",
   "execution_count": 407,
   "id": "f19a5478-1298-425a-85e5-e07a6763c84c",
   "metadata": {},
   "outputs": [
    {
     "name": "stdout",
     "output_type": "stream",
     "text": [
      "The accuracy score is  95.0 %\n"
     ]
    }
   ],
   "source": [
    "accuracy = metrics.accuracy_score(Y_test,Y_pred)\n",
    "confusion_matrix = metrics.confusion_matrix(Y_test,Y_pred)\n",
    "\n",
    "print('The accuracy score is ',accuracy*100,'%')"
   ]
  },
  {
   "cell_type": "code",
   "execution_count": 409,
   "id": "7533930c-a5a8-4eb6-9055-f7327b44516c",
   "metadata": {},
   "outputs": [
    {
     "name": "stdout",
     "output_type": "stream",
     "text": [
      "[[ 9  0  0  0  0  0  0]\n",
      " [ 0 10  0  0  0  0  0]\n",
      " [ 0  0  6  0  0  0  0]\n",
      " [ 0  0  0  3  0  1  0]\n",
      " [ 0  0  0  0  4  0  0]\n",
      " [ 0  0  0  0  0  2  0]\n",
      " [ 0  0  0  0  0  1  4]]\n"
     ]
    },
    {
     "data": {
      "image/png": "[encoded data removed]",
      "text/plain": [
       "<Figure size 640x480 with 2 Axes>"
      ]
     },
     "metadata": {},
     "output_type": "display_data"
    }
   ],
   "source": [
    "# Confusion matrix\n",
    "sns.heatmap(confusion_matrix)\n",
    "print(confusion_matrix)"
   ]
  },
  {
   "cell_type": "code",
   "execution_count": 411,
   "id": "231427f5-417a-409d-a680-cb61990994e2",
   "metadata": {},
   "outputs": [
    {
     "name": "stdout",
     "output_type": "stream",
     "text": [
      "              precision    recall  f1-score   support\n",
      "\n",
      "           0       1.00      1.00      1.00         9\n",
      "           1       1.00      1.00      1.00        10\n",
      "           2       1.00      1.00      1.00         6\n",
      "           3       1.00      0.75      0.86         4\n",
      "           4       1.00      1.00      1.00         4\n",
      "           5       0.50      1.00      0.67         2\n",
      "           6       1.00      0.80      0.89         5\n",
      "\n",
      "    accuracy                           0.95        40\n",
      "   macro avg       0.93      0.94      0.92        40\n",
      "weighted avg       0.97      0.95      0.96        40\n",
      "\n"
     ]
    }
   ],
   "source": [
    "print(classification_report(Y_test, Y_pred))"
   ]
  },
  {
   "cell_type": "code",
   "execution_count": 413,
   "id": "ca4988e7-b915-4cbb-b375-2198f68c659b",
   "metadata": {},
   "outputs": [
    {
     "data": {
      "text/html": [
       "<div>\n",
       "<style scoped>\n",
       "    .dataframe tbody tr th:only-of-type {\n",
       "        vertical-align: middle;\n",
       "    }\n",
       "\n",
       "    .dataframe tbody tr th {\n",
       "        vertical-align: top;\n",
       "    }\n",
       "\n",
       "    .dataframe thead th {\n",
       "        text-align: right;\n",
       "    }\n",
       "</style>\n",
       "<table border=\"1\" class=\"dataframe\">\n",
       "  <thead>\n",
       "    <tr style=\"text-align: right;\">\n",
       "      <th></th>\n",
       "      <th>Accuracy</th>\n",
       "      <th>F1_score</th>\n",
       "      <th>Recall</th>\n",
       "      <th>Precision</th>\n",
       "    </tr>\n",
       "  </thead>\n",
       "  <tbody>\n",
       "    <tr>\n",
       "      <th>Decision_Tree_Classifier</th>\n",
       "      <td>0.95</td>\n",
       "      <td>0.955</td>\n",
       "      <td>0.95</td>\n",
       "      <td>0.975</td>\n",
       "    </tr>\n",
       "  </tbody>\n",
       "</table>\n",
       "</div>"
      ],
      "text/plain": [
       "                          Accuracy  F1_score  Recall  Precision\n",
       "Decision_Tree_Classifier      0.95     0.955    0.95      0.975"
      ]
     },
     "execution_count": 413,
     "metadata": {},
     "output_type": "execute_result"
    }
   ],
   "source": [
    "Scores = {\n",
    "    'Accuracy': round(accuracy_score(Y_test, Y_pred), 3),\n",
    "    'F1_score': round(f1_score(Y_test, Y_pred, average='weighted'), 3),\n",
    "    'Recall': round(recall_score(Y_test, Y_pred, average='weighted'), 3),\n",
    "    'Precision': round(precision_score(Y_test, Y_pred, average='weighted'), 3),\n",
    "}\n",
    "Scores\n",
    "\n",
    "model_decisiontree=pd.DataFrame(data=Scores,index=['Decision_Tree_Classifier'])\n",
    "model_decisiontree"
   ]
  },
  {
   "cell_type": "code",
   "execution_count": 415,
   "id": "499ac9cc-dd22-4d66-87de-a3e79c93f17c",
   "metadata": {},
   "outputs": [
    {
     "name": "stdout",
     "output_type": "stream",
     "text": [
      "Best value of n_estimators: {'n_estimators': 11}\n",
      "Best score: 98.00000000000001\n"
     ]
    }
   ],
   "source": [
    "#Random Forest Classifier\n",
    "\n",
    "random_forest = RandomForestClassifier()\n",
    "ne = np.arange(1,20)\n",
    "param_grid = {'n_estimators' : ne}\n",
    "\n",
    "rf_cv = GridSearchCV(random_forest, param_grid=param_grid, cv=5)\n",
    "\n",
    "rf_cv.fit(X, Y)\n",
    "print('Best value of n_estimators:',rf_cv.best_params_)\n",
    "print('Best score:',rf_cv.best_score_*100)"
   ]
  },
  {
   "cell_type": "code",
   "execution_count": 416,
   "id": "3f86b63f-a814-4775-9f7a-a66c342bf524",
   "metadata": {},
   "outputs": [],
   "source": [
    "classifier = RandomForestClassifier(n_estimators = 11, criterion = 'entropy', random_state = 0)\n",
    "classifier.fit(X_train, Y_train)\n",
    "Y_pred=classifier.predict(X_test)"
   ]
  },
  {
   "cell_type": "code",
   "execution_count": 417,
   "id": "2d9c9c38-559d-43c3-9d0b-b40e7b206dfd",
   "metadata": {},
   "outputs": [
    {
     "name": "stdout",
     "output_type": "stream",
     "text": [
      "The accuracy score is  87.5 %\n"
     ]
    }
   ],
   "source": [
    "accuracy = metrics.accuracy_score(Y_test,Y_pred)\n",
    "confusion_matrix = metrics.confusion_matrix(Y_test,Y_pred)\n",
    "\n",
    "print('The accuracy score is ',accuracy*100,'%')"
   ]
  },
  {
   "cell_type": "code",
   "execution_count": 421,
   "id": "b49cb3b9-6d9a-4618-b52f-d45b09339d62",
   "metadata": {},
   "outputs": [
    {
     "name": "stdout",
     "output_type": "stream",
     "text": [
      "[[ 9  0  0  0  0  0  0]\n",
      " [ 0 10  0  0  0  0  0]\n",
      " [ 0  0  6  0  0  0  0]\n",
      " [ 0  0  0  4  0  0  0]\n",
      " [ 0  0  0  0  4  0  0]\n",
      " [ 0  0  0  0  0  2  0]\n",
      " [ 0  0  1  2  0  2  0]]\n"
     ]
    },
    {
     "data": {
      "image/png": "[encoded data removed]",
      "text/plain": [
       "<Figure size 640x480 with 2 Axes>"
      ]
     },
     "metadata": {},
     "output_type": "display_data"
    }
   ],
   "source": [
    "# Confusion matrix\n",
    "sns.heatmap(confusion_matrix)\n",
    "print(confusion_matrix)"
   ]
  },
  {
   "cell_type": "code",
   "execution_count": 423,
   "id": "f697faea-7353-4c78-8652-dd12bcfdb39c",
   "metadata": {},
   "outputs": [
    {
     "name": "stdout",
     "output_type": "stream",
     "text": [
      "              precision    recall  f1-score   support\n",
      "\n",
      "           0       1.00      1.00      1.00         9\n",
      "           1       1.00      1.00      1.00        10\n",
      "           2       0.86      1.00      0.92         6\n",
      "           3       0.67      1.00      0.80         4\n",
      "           4       1.00      1.00      1.00         4\n",
      "           5       0.50      1.00      0.67         2\n",
      "           6       0.00      0.00      0.00         5\n",
      "\n",
      "    accuracy                           0.88        40\n",
      "   macro avg       0.72      0.86      0.77        40\n",
      "weighted avg       0.80      0.88      0.83        40\n",
      "\n"
     ]
    }
   ],
   "source": [
    "print(classification_report(Y_test, Y_pred))"
   ]
  },
  {
   "cell_type": "code",
   "execution_count": 425,
   "id": "8596db44-4c10-47d6-b911-cf64aa9acf3b",
   "metadata": {},
   "outputs": [
    {
     "data": {
      "text/html": [
       "<div>\n",
       "<style scoped>\n",
       "    .dataframe tbody tr th:only-of-type {\n",
       "        vertical-align: middle;\n",
       "    }\n",
       "\n",
       "    .dataframe tbody tr th {\n",
       "        vertical-align: top;\n",
       "    }\n",
       "\n",
       "    .dataframe thead th {\n",
       "        text-align: right;\n",
       "    }\n",
       "</style>\n",
       "<table border=\"1\" class=\"dataframe\">\n",
       "  <thead>\n",
       "    <tr style=\"text-align: right;\">\n",
       "      <th></th>\n",
       "      <th>Accuracy</th>\n",
       "      <th>F1_score</th>\n",
       "      <th>Recall</th>\n",
       "      <th>Precision</th>\n",
       "    </tr>\n",
       "  </thead>\n",
       "  <tbody>\n",
       "    <tr>\n",
       "      <th>Random_Forest</th>\n",
       "      <td>0.875</td>\n",
       "      <td>0.827</td>\n",
       "      <td>0.875</td>\n",
       "      <td>0.795</td>\n",
       "    </tr>\n",
       "  </tbody>\n",
       "</table>\n",
       "</div>"
      ],
      "text/plain": [
       "               Accuracy  F1_score  Recall  Precision\n",
       "Random_Forest     0.875     0.827   0.875      0.795"
      ]
     },
     "execution_count": 425,
     "metadata": {},
     "output_type": "execute_result"
    }
   ],
   "source": [
    "Scores = {\n",
    "    'Accuracy': round(accuracy_score(Y_test, Y_pred), 3),\n",
    "    'F1_score': round(f1_score(Y_test, Y_pred, average='weighted'), 3),\n",
    "    'Recall': round(recall_score(Y_test, Y_pred, average='weighted'), 3),\n",
    "    'Precision': round(precision_score(Y_test, Y_pred, average='weighted'), 3),\n",
    "}\n",
    "Scores\n",
    "model_randomforest=pd.DataFrame(data=Scores,index=['Random_Forest'])\n",
    "model_randomforest"
   ]
  },
  {
   "cell_type": "code",
   "execution_count": 427,
   "id": "c9eb4b18-eb17-451d-8be8-0cd54fc93a41",
   "metadata": {},
   "outputs": [],
   "source": [
    "from sklearn.neighbors import KNeighborsClassifier\n",
    "KNN=KNeighborsClassifier(n_neighbors=3,metric='minkowski',p=2)\n",
    "  \n",
    "KNN.fit(X_train, Y_train)\n",
    "Y_pred = KNN.predict(X_test)"
   ]
  },
  {
   "cell_type": "code",
   "execution_count": 429,
   "id": "58b0a736-c1f4-40ef-908e-18862a359f46",
   "metadata": {},
   "outputs": [
    {
     "data": {
      "text/plain": [
       "62.5"
      ]
     },
     "execution_count": 429,
     "metadata": {},
     "output_type": "execute_result"
    }
   ],
   "source": [
    "#Accuracy of KNN\n",
    "acc_knn = round(accuracy_score(Y_pred, Y_test) * 100, 2)\n",
    "acc_knn"
   ]
  },
  {
   "cell_type": "code",
   "execution_count": 431,
   "id": "f6397d57-4271-472c-901d-28eeb9018336",
   "metadata": {},
   "outputs": [
    {
     "name": "stdout",
     "output_type": "stream",
     "text": [
      "[[ 9  0  0  0  0  0  0]\n",
      " [ 0 10  0  0  0  0  0]\n",
      " [ 0  0  6  0  0  0  0]\n",
      " [ 0  0  0  4  0  0  0]\n",
      " [ 0  0  0  0  4  0  0]\n",
      " [ 0  0  0  0  0  2  0]\n",
      " [ 0  0  1  2  0  2  0]]\n"
     ]
    },
    {
     "data": {
      "image/png": "[encoded data removed]",
      "text/plain": [
       "<Figure size 640x480 with 2 Axes>"
      ]
     },
     "metadata": {},
     "output_type": "display_data"
    }
   ],
   "source": [
    "# Confusion matrix\n",
    "sns.heatmap(confusion_matrix)\n",
    "print(confusion_matrix)"
   ]
  },
  {
   "cell_type": "code",
   "execution_count": 433,
   "id": "5e4addb4-55a4-415f-9880-655cd9c16be0",
   "metadata": {},
   "outputs": [
    {
     "name": "stdout",
     "output_type": "stream",
     "text": [
      "              precision    recall  f1-score   support\n",
      "\n",
      "           0       1.00      0.89      0.94         9\n",
      "           1       0.78      0.70      0.74        10\n",
      "           2       0.60      1.00      0.75         6\n",
      "           3       0.25      0.50      0.33         4\n",
      "           4       0.50      0.50      0.50         4\n",
      "           5       0.00      0.00      0.00         2\n",
      "           6       0.00      0.00      0.00         5\n",
      "\n",
      "    accuracy                           0.62        40\n",
      "   macro avg       0.45      0.51      0.47        40\n",
      "weighted avg       0.58      0.62      0.59        40\n",
      "\n"
     ]
    }
   ],
   "source": [
    "print(classification_report(Y_test, Y_pred))"
   ]
  },
  {
   "cell_type": "code",
   "execution_count": 435,
   "id": "40376132-e871-4983-9186-337303520914",
   "metadata": {},
   "outputs": [
    {
     "data": {
      "text/html": [
       "<div>\n",
       "<style scoped>\n",
       "    .dataframe tbody tr th:only-of-type {\n",
       "        vertical-align: middle;\n",
       "    }\n",
       "\n",
       "    .dataframe tbody tr th {\n",
       "        vertical-align: top;\n",
       "    }\n",
       "\n",
       "    .dataframe thead th {\n",
       "        text-align: right;\n",
       "    }\n",
       "</style>\n",
       "<table border=\"1\" class=\"dataframe\">\n",
       "  <thead>\n",
       "    <tr style=\"text-align: right;\">\n",
       "      <th></th>\n",
       "      <th>Accuracy</th>\n",
       "      <th>F1_score</th>\n",
       "      <th>Recall</th>\n",
       "      <th>Precision</th>\n",
       "    </tr>\n",
       "  </thead>\n",
       "  <tbody>\n",
       "    <tr>\n",
       "      <th>KNN_Classifier</th>\n",
       "      <td>0.625</td>\n",
       "      <td>0.592</td>\n",
       "      <td>0.625</td>\n",
       "      <td>0.584</td>\n",
       "    </tr>\n",
       "  </tbody>\n",
       "</table>\n",
       "</div>"
      ],
      "text/plain": [
       "                Accuracy  F1_score  Recall  Precision\n",
       "KNN_Classifier     0.625     0.592   0.625      0.584"
      ]
     },
     "execution_count": 435,
     "metadata": {},
     "output_type": "execute_result"
    }
   ],
   "source": [
    "Scores = {\n",
    "    'Accuracy': round(accuracy_score(Y_test, Y_pred), 3),\n",
    "    'F1_score': round(f1_score(Y_test, Y_pred, average='weighted'), 3),\n",
    "    'Recall': round(recall_score(Y_test, Y_pred, average='weighted'), 3),\n",
    "    'Precision': round(precision_score(Y_test, Y_pred, average='weighted'), 3),\n",
    "}\n",
    "Scores\n",
    "model_KNN=pd.DataFrame(data=Scores,index=['KNN_Classifier'])\n",
    "model_KNN"
   ]
  },
  {
   "cell_type": "code",
   "execution_count": 437,
   "id": "d3a67637-2dda-4a3a-82cd-89c0f8f493b8",
   "metadata": {},
   "outputs": [],
   "source": [
    "from sklearn.svm import SVC\n",
    "classifier = SVC(kernel = 'linear', random_state = 0)\n",
    "classifier.fit(X_train, Y_train)\n",
    "Y_pred = classifier.predict(X_test)"
   ]
  },
  {
   "cell_type": "code",
   "execution_count": 439,
   "id": "0efd58d9-f47e-4702-81b8-3dfac3a2cc2e",
   "metadata": {},
   "outputs": [
    {
     "name": "stdout",
     "output_type": "stream",
     "text": [
      "The accuracy score is  90.0 %\n"
     ]
    }
   ],
   "source": [
    "accuracy = metrics.accuracy_score(Y_test,Y_pred)\n",
    "confusion_matrix = metrics.confusion_matrix(Y_test,Y_pred)\n",
    "\n",
    "print('The accuracy score is ',accuracy*100,'%')"
   ]
  },
  {
   "cell_type": "code",
   "execution_count": 441,
   "id": "01f7b0e4-3fe6-4dad-93f7-4ebcff212c3f",
   "metadata": {},
   "outputs": [
    {
     "name": "stdout",
     "output_type": "stream",
     "text": [
      "[[ 9  0  0  0  0  0  0]\n",
      " [ 0 10  0  0  0  0  0]\n",
      " [ 0  0  6  0  0  0  0]\n",
      " [ 0  0  0  4  0  0  0]\n",
      " [ 0  0  0  0  4  0  0]\n",
      " [ 0  0  0  0  0  0  2]\n",
      " [ 0  0  0  0  0  2  3]]\n"
     ]
    },
    {
     "data": {
      "image/png": "[encoded data removed]",
      "text/plain": [
       "<Figure size 640x480 with 2 Axes>"
      ]
     },
     "metadata": {},
     "output_type": "display_data"
    }
   ],
   "source": [
    "# Confusion Matrix\n",
    "sns.heatmap(confusion_matrix)\n",
    "print(confusion_matrix)"
   ]
  },
  {
   "cell_type": "code",
   "execution_count": 443,
   "id": "8da30405-b6b1-41d9-baac-6aed20b08d61",
   "metadata": {},
   "outputs": [
    {
     "name": "stdout",
     "output_type": "stream",
     "text": [
      "              precision    recall  f1-score   support\n",
      "\n",
      "           0       1.00      1.00      1.00         9\n",
      "           1       1.00      1.00      1.00        10\n",
      "           2       1.00      1.00      1.00         6\n",
      "           3       1.00      1.00      1.00         4\n",
      "           4       1.00      1.00      1.00         4\n",
      "           5       0.00      0.00      0.00         2\n",
      "           6       0.60      0.60      0.60         5\n",
      "\n",
      "    accuracy                           0.90        40\n",
      "   macro avg       0.80      0.80      0.80        40\n",
      "weighted avg       0.90      0.90      0.90        40\n",
      "\n"
     ]
    }
   ],
   "source": [
    "print(classification_report(Y_test, Y_pred))"
   ]
  },
  {
   "cell_type": "code",
   "execution_count": 445,
   "id": "3f559b2b-6647-49c8-9495-821376dcd2bb",
   "metadata": {},
   "outputs": [
    {
     "data": {
      "text/html": [
       "<div>\n",
       "<style scoped>\n",
       "    .dataframe tbody tr th:only-of-type {\n",
       "        vertical-align: middle;\n",
       "    }\n",
       "\n",
       "    .dataframe tbody tr th {\n",
       "        vertical-align: top;\n",
       "    }\n",
       "\n",
       "    .dataframe thead th {\n",
       "        text-align: right;\n",
       "    }\n",
       "</style>\n",
       "<table border=\"1\" class=\"dataframe\">\n",
       "  <thead>\n",
       "    <tr style=\"text-align: right;\">\n",
       "      <th></th>\n",
       "      <th>Accuracy</th>\n",
       "      <th>F1_score</th>\n",
       "      <th>Recall</th>\n",
       "      <th>Precision</th>\n",
       "    </tr>\n",
       "  </thead>\n",
       "  <tbody>\n",
       "    <tr>\n",
       "      <th>Support_Vector_Machine</th>\n",
       "      <td>0.9</td>\n",
       "      <td>0.9</td>\n",
       "      <td>0.9</td>\n",
       "      <td>0.9</td>\n",
       "    </tr>\n",
       "  </tbody>\n",
       "</table>\n",
       "</div>"
      ],
      "text/plain": [
       "                        Accuracy  F1_score  Recall  Precision\n",
       "Support_Vector_Machine       0.9       0.9     0.9        0.9"
      ]
     },
     "execution_count": 445,
     "metadata": {},
     "output_type": "execute_result"
    }
   ],
   "source": [
    "Scores = {\n",
    "    'Accuracy': round(accuracy_score(Y_test, Y_pred), 3),\n",
    "    'F1_score': round(f1_score(Y_test, Y_pred, average='weighted'), 3),\n",
    "    'Recall': round(recall_score(Y_test, Y_pred, average='weighted'), 3),\n",
    "    'Precision': round(precision_score(Y_test, Y_pred, average='weighted'), 3),\n",
    "}\n",
    "model_svm=pd.DataFrame(data=Scores,index=['Support_Vector_Machine'])\n",
    "model_svm"
   ]
  },
  {
   "cell_type": "code",
   "execution_count": 447,
   "id": "bb8aee10-483c-4adb-9016-2a7406408ba6",
   "metadata": {},
   "outputs": [
    {
     "name": "stdout",
     "output_type": "stream",
     "text": [
      "Best value of parameters: {'max_depth': 1, 'n_estimators': 6}\n",
      "Best score: 99.0\n"
     ]
    }
   ],
   "source": [
    "gbk = GradientBoostingClassifier()\n",
    "ne = np.arange(1,20)\n",
    "dep = np.arange(1,10)\n",
    "param_grid = {'n_estimators' : ne,'max_depth' : dep}\n",
    "\n",
    "gbk_cv = GridSearchCV(gbk, param_grid=param_grid, cv=5)\n",
    "\n",
    "gbk_cv.fit(X, Y)\n",
    "print('Best value of parameters:',gbk_cv.best_params_)\n",
    "print('Best score:',gbk_cv.best_score_*100)"
   ]
  },
  {
   "cell_type": "code",
   "execution_count": 448,
   "id": "38b8582b-1db9-4ceb-87fe-9c19eba8a6ef",
   "metadata": {},
   "outputs": [],
   "source": [
    "classifier=GradientBoostingClassifier(n_estimators=100, learning_rate=1.0,max_depth=1, random_state=0).fit(X_train, Y_train)\n",
    "Y_pred=classifier.predict(X_test)"
   ]
  },
  {
   "cell_type": "code",
   "execution_count": 451,
   "id": "ce3acd0a-934a-435d-8d6a-52cd5046d8e8",
   "metadata": {},
   "outputs": [
    {
     "name": "stdout",
     "output_type": "stream",
     "text": [
      "The accuracy score is  95.0 %\n"
     ]
    }
   ],
   "source": [
    "accuracy = metrics.accuracy_score(Y_test,Y_pred)\n",
    "confusion_matrix = metrics.confusion_matrix(Y_test,Y_pred)\n",
    "\n",
    "print('The accuracy score is ',accuracy*100,'%')"
   ]
  },
  {
   "cell_type": "code",
   "execution_count": 453,
   "id": "8c4ae55d-cb8b-46e4-aff5-6396479ef5e0",
   "metadata": {},
   "outputs": [
    {
     "name": "stdout",
     "output_type": "stream",
     "text": [
      "[[ 9  0  0  0  0  0  0]\n",
      " [ 0 10  0  0  0  0  0]\n",
      " [ 0  0  6  0  0  0  0]\n",
      " [ 0  0  0  3  0  1  0]\n",
      " [ 0  0  0  0  4  0  0]\n",
      " [ 0  0  0  0  0  2  0]\n",
      " [ 0  0  0  0  0  1  4]]\n"
     ]
    },
    {
     "data": {
      "image/png": "[encoded data removed]",
      "text/plain": [
       "<Figure size 640x480 with 2 Axes>"
      ]
     },
     "metadata": {},
     "output_type": "display_data"
    }
   ],
   "source": [
    "# Confusion Matrix\n",
    "sns.heatmap(confusion_matrix)\n",
    "print(confusion_matrix)"
   ]
  },
  {
   "cell_type": "code",
   "execution_count": 455,
   "id": "7eb9764f-9d20-4815-b3fc-980ce0ff7ed7",
   "metadata": {},
   "outputs": [
    {
     "name": "stdout",
     "output_type": "stream",
     "text": [
      "              precision    recall  f1-score   support\n",
      "\n",
      "           0       1.00      1.00      1.00         9\n",
      "           1       1.00      1.00      1.00        10\n",
      "           2       1.00      1.00      1.00         6\n",
      "           3       1.00      0.75      0.86         4\n",
      "           4       1.00      1.00      1.00         4\n",
      "           5       0.50      1.00      0.67         2\n",
      "           6       1.00      0.80      0.89         5\n",
      "\n",
      "    accuracy                           0.95        40\n",
      "   macro avg       0.93      0.94      0.92        40\n",
      "weighted avg       0.97      0.95      0.96        40\n",
      "\n"
     ]
    }
   ],
   "source": [
    "print(classification_report(Y_test, Y_pred))"
   ]
  },
  {
   "cell_type": "code",
   "execution_count": 457,
   "id": "6320d24a-5ebf-4ba0-af36-cdf357138b89",
   "metadata": {},
   "outputs": [
    {
     "data": {
      "text/html": [
       "<div>\n",
       "<style scoped>\n",
       "    .dataframe tbody tr th:only-of-type {\n",
       "        vertical-align: middle;\n",
       "    }\n",
       "\n",
       "    .dataframe tbody tr th {\n",
       "        vertical-align: top;\n",
       "    }\n",
       "\n",
       "    .dataframe thead th {\n",
       "        text-align: right;\n",
       "    }\n",
       "</style>\n",
       "<table border=\"1\" class=\"dataframe\">\n",
       "  <thead>\n",
       "    <tr style=\"text-align: right;\">\n",
       "      <th></th>\n",
       "      <th>Accuracy</th>\n",
       "      <th>F1_score</th>\n",
       "      <th>Recall</th>\n",
       "      <th>Precision</th>\n",
       "    </tr>\n",
       "  </thead>\n",
       "  <tbody>\n",
       "    <tr>\n",
       "      <th>Gradient_Boosting</th>\n",
       "      <td>0.95</td>\n",
       "      <td>0.955</td>\n",
       "      <td>0.95</td>\n",
       "      <td>0.975</td>\n",
       "    </tr>\n",
       "  </tbody>\n",
       "</table>\n",
       "</div>"
      ],
      "text/plain": [
       "                   Accuracy  F1_score  Recall  Precision\n",
       "Gradient_Boosting      0.95     0.955    0.95      0.975"
      ]
     },
     "execution_count": 457,
     "metadata": {},
     "output_type": "execute_result"
    }
   ],
   "source": [
    "Scores = {\n",
    "    'Accuracy': round(accuracy_score(Y_test, Y_pred), 3),\n",
    "    'F1_score': round(f1_score(Y_test, Y_pred, average='weighted'), 3),\n",
    "    'Recall': round(recall_score(Y_test, Y_pred, average='weighted'), 3),\n",
    "    'Precision': round(precision_score(Y_test, Y_pred, average='weighted'), 3),\n",
    "}\n",
    "model_gradientboost=pd.DataFrame(data=Scores,index=['Gradient_Boosting'])\n",
    "model_gradientboost"
   ]
  },
  {
   "cell_type": "code",
   "execution_count": 459,
   "id": "a73589f2-1c60-48a6-8320-3a6b5f3c3d64",
   "metadata": {},
   "outputs": [
    {
     "data": {
      "text/html": [
       "<div>\n",
       "<style scoped>\n",
       "    .dataframe tbody tr th:only-of-type {\n",
       "        vertical-align: middle;\n",
       "    }\n",
       "\n",
       "    .dataframe tbody tr th {\n",
       "        vertical-align: top;\n",
       "    }\n",
       "\n",
       "    .dataframe thead th {\n",
       "        text-align: right;\n",
       "    }\n",
       "</style>\n",
       "<table border=\"1\" class=\"dataframe\">\n",
       "  <thead>\n",
       "    <tr style=\"text-align: right;\">\n",
       "      <th></th>\n",
       "      <th>Accuracy</th>\n",
       "      <th>F1_score</th>\n",
       "      <th>Recall</th>\n",
       "      <th>Precision</th>\n",
       "    </tr>\n",
       "  </thead>\n",
       "  <tbody>\n",
       "    <tr>\n",
       "      <th>Logistic_regression</th>\n",
       "      <td>0.825</td>\n",
       "      <td>0.802</td>\n",
       "      <td>0.825</td>\n",
       "      <td>0.794</td>\n",
       "    </tr>\n",
       "    <tr>\n",
       "      <th>Decision_Tree_Classifier</th>\n",
       "      <td>0.950</td>\n",
       "      <td>0.955</td>\n",
       "      <td>0.950</td>\n",
       "      <td>0.975</td>\n",
       "    </tr>\n",
       "    <tr>\n",
       "      <th>Random_Forest</th>\n",
       "      <td>0.875</td>\n",
       "      <td>0.827</td>\n",
       "      <td>0.875</td>\n",
       "      <td>0.795</td>\n",
       "    </tr>\n",
       "    <tr>\n",
       "      <th>KNN_Classifier</th>\n",
       "      <td>0.625</td>\n",
       "      <td>0.592</td>\n",
       "      <td>0.625</td>\n",
       "      <td>0.584</td>\n",
       "    </tr>\n",
       "    <tr>\n",
       "      <th>Support_Vector_Machine</th>\n",
       "      <td>0.900</td>\n",
       "      <td>0.900</td>\n",
       "      <td>0.900</td>\n",
       "      <td>0.900</td>\n",
       "    </tr>\n",
       "    <tr>\n",
       "      <th>Gradient_Boosting</th>\n",
       "      <td>0.950</td>\n",
       "      <td>0.955</td>\n",
       "      <td>0.950</td>\n",
       "      <td>0.975</td>\n",
       "    </tr>\n",
       "  </tbody>\n",
       "</table>\n",
       "</div>"
      ],
      "text/plain": [
       "                          Accuracy  F1_score  Recall  Precision\n",
       "Logistic_regression          0.825     0.802   0.825      0.794\n",
       "Decision_Tree_Classifier     0.950     0.955   0.950      0.975\n",
       "Random_Forest                0.875     0.827   0.875      0.795\n",
       "KNN_Classifier               0.625     0.592   0.625      0.584\n",
       "Support_Vector_Machine       0.900     0.900   0.900      0.900\n",
       "Gradient_Boosting            0.950     0.955   0.950      0.975"
      ]
     },
     "execution_count": 459,
     "metadata": {},
     "output_type": "execute_result"
    }
   ],
   "source": [
    "All_Models = pd.concat([model_logreg,model_decisiontree,model_randomforest,model_KNN,model_svm,model_gradientboost],axis = 0)\n",
    "All_Models"
   ]
  },
  {
   "cell_type": "code",
   "execution_count": 461,
   "id": "6d9b8505-0d55-4e1b-9304-b031c8ce9ac6",
   "metadata": {},
   "outputs": [
    {
     "data": {
      "text/html": [
       "<div>\n",
       "<style scoped>\n",
       "    .dataframe tbody tr th:only-of-type {\n",
       "        vertical-align: middle;\n",
       "    }\n",
       "\n",
       "    .dataframe tbody tr th {\n",
       "        vertical-align: top;\n",
       "    }\n",
       "\n",
       "    .dataframe thead th {\n",
       "        text-align: right;\n",
       "    }\n",
       "</style>\n",
       "<table border=\"1\" class=\"dataframe\">\n",
       "  <thead>\n",
       "    <tr style=\"text-align: right;\">\n",
       "      <th></th>\n",
       "      <th>Accuracy</th>\n",
       "      <th>F1_score</th>\n",
       "      <th>Recall</th>\n",
       "      <th>Precision</th>\n",
       "    </tr>\n",
       "  </thead>\n",
       "  <tbody>\n",
       "    <tr>\n",
       "      <th>Decision_Tree_Classifier</th>\n",
       "      <td>0.950</td>\n",
       "      <td>0.955</td>\n",
       "      <td>0.950</td>\n",
       "      <td>0.975</td>\n",
       "    </tr>\n",
       "    <tr>\n",
       "      <th>Gradient_Boosting</th>\n",
       "      <td>0.950</td>\n",
       "      <td>0.955</td>\n",
       "      <td>0.950</td>\n",
       "      <td>0.975</td>\n",
       "    </tr>\n",
       "    <tr>\n",
       "      <th>Support_Vector_Machine</th>\n",
       "      <td>0.900</td>\n",
       "      <td>0.900</td>\n",
       "      <td>0.900</td>\n",
       "      <td>0.900</td>\n",
       "    </tr>\n",
       "    <tr>\n",
       "      <th>Random_Forest</th>\n",
       "      <td>0.875</td>\n",
       "      <td>0.827</td>\n",
       "      <td>0.875</td>\n",
       "      <td>0.795</td>\n",
       "    </tr>\n",
       "    <tr>\n",
       "      <th>Logistic_regression</th>\n",
       "      <td>0.825</td>\n",
       "      <td>0.802</td>\n",
       "      <td>0.825</td>\n",
       "      <td>0.794</td>\n",
       "    </tr>\n",
       "    <tr>\n",
       "      <th>KNN_Classifier</th>\n",
       "      <td>0.625</td>\n",
       "      <td>0.592</td>\n",
       "      <td>0.625</td>\n",
       "      <td>0.584</td>\n",
       "    </tr>\n",
       "  </tbody>\n",
       "</table>\n",
       "</div>"
      ],
      "text/plain": [
       "                          Accuracy  F1_score  Recall  Precision\n",
       "Decision_Tree_Classifier     0.950     0.955   0.950      0.975\n",
       "Gradient_Boosting            0.950     0.955   0.950      0.975\n",
       "Support_Vector_Machine       0.900     0.900   0.900      0.900\n",
       "Random_Forest                0.875     0.827   0.875      0.795\n",
       "Logistic_regression          0.825     0.802   0.825      0.794\n",
       "KNN_Classifier               0.625     0.592   0.625      0.584"
      ]
     },
     "execution_count": 461,
     "metadata": {},
     "output_type": "execute_result"
    }
   ],
   "source": [
    "Sort_Models = All_Models.sort_values(by=['Accuracy'],ascending = False)\n",
    "Sort_Models"
   ]
  },
  {
   "cell_type": "code",
   "execution_count": 463,
   "id": "d6e3adce-004b-48c5-a5c8-cfca45927731",
   "metadata": {},
   "outputs": [
    {
     "data": {
      "image/png": "[encoded data removed]",
      "text/plain": [
       "<Figure size 1300x500 with 1 Axes>"
      ]
     },
     "metadata": {},
     "output_type": "display_data"
    }
   ],
   "source": [
    "plt.subplots(figsize=(13,5))\n",
    "sns.barplot(x=All_Models.index , y=\"Accuracy\",data=All_Models,palette='hot',edgecolor=sns.color_palette('dark',7))\n",
    "plt.xticks(rotation=90)\n",
    "plt.title('Machine Learning Algorithms Accuracy Comparison')\n",
    "plt.show()"
   ]
  },
  {
   "cell_type": "code",
   "execution_count": 465,
   "id": "93c4bf7e-5a32-4a8a-82c3-f09cb1f8abea",
   "metadata": {},
   "outputs": [
    {
     "data": {
      "image/png": "[encoded data removed]",
      "text/plain": [
       "<Figure size 1300x500 with 1 Axes>"
      ]
     },
     "metadata": {},
     "output_type": "display_data"
    }
   ],
   "source": [
    "plt.subplots(figsize=(13,5))\n",
    "sns.barplot(x=All_Models.index , y=\"F1_score\",data=All_Models,palette='hot',edgecolor=sns.color_palette('dark',7))\n",
    "plt.xticks(rotation=90)\n",
    "plt.title('Machine Learning Algorithms F1_score Comparison')\n",
    "plt.show()"
   ]
  },
  {
   "cell_type": "code",
   "execution_count": 467,
   "id": "8d88ad5f-d8dc-4e80-98ec-a77eda975972",
   "metadata": {},
   "outputs": [
    {
     "data": {
      "image/png": "[encoded data removed]",
      "text/plain": [
       "<Figure size 1300x500 with 1 Axes>"
      ]
     },
     "metadata": {},
     "output_type": "display_data"
    }
   ],
   "source": [
    "plt.subplots(figsize=(13,5))\n",
    "sns.barplot(x=All_Models.index , y=\"Recall\",data=All_Models,palette='hot',edgecolor=sns.color_palette('dark',7))\n",
    "plt.xticks(rotation=90)\n",
    "plt.title('Machine Learning Algorithms Recall Comparison')\n",
    "plt.show()"
   ]
  },
  {
   "cell_type": "code",
   "execution_count": 469,
   "id": "a99e2538-550d-47d6-a7b4-159d55aa6c70",
   "metadata": {},
   "outputs": [
    {
     "data": {
      "image/png": "[encoded data removed]",
      "text/plain": [
       "<Figure size 1300x500 with 1 Axes>"
      ]
     },
     "metadata": {},
     "output_type": "display_data"
    }
   ],
   "source": [
    "plt.subplots(figsize=(13,5))\n",
    "sns.barplot(x=All_Models.index , y=\"Precision\",data=All_Models,palette='hot',edgecolor=sns.color_palette('dark',7))\n",
    "plt.xticks(rotation=90)\n",
    "plt.title('Machine Learning Algorithms Precision Comparison')\n",
    "plt.show()"
   ]
  },
  {
   "cell_type": "code",
   "execution_count": null,
   "id": "69b5ab07-1e9e-4bf9-89ac-94a4cda308c9",
   "metadata": {},
   "outputs": [],
   "source": []
  },
  {
   "cell_type": "code",
   "execution_count": null,
   "id": "95076a17-bb3b-4174-b4a9-571bbc191ed3",
   "metadata": {},
   "outputs": [],
   "source": []
  }
 ],
 "metadata": {
  "kernelspec": {
   "display_name": "Python 3 (ipykernel)",
   "language": "python",
   "name": "python3"
  },
  "language_info": {
   "codemirror_mode": {
    "name": "ipython",
    "version": 3
   },
   "file_extension": ".py",
   "mimetype": "text/x-python",
   "name": "python",
   "nbconvert_exporter": "python",
   "pygments_lexer": "ipython3",
   "version": "3.12.4"
  }
 },
 "nbformat": 4,
 "nbformat_minor": 5
}
